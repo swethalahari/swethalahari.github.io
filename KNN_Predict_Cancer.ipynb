{
 "cells": [
  {
   "cell_type": "code",
   "execution_count": 1,
   "metadata": {},
   "outputs": [],
   "source": [
    "import pandas as pd\n",
    "import numpy as np\n",
    "from sklearn import neighbors, datasets\n",
    "from sklearn.model_selection import train_test_split\n",
    "from sklearn.neighbors import KNeighborsClassifier\n",
    "from sklearn.decomposition import PCA\n",
    "from collections import Counter\n",
    "from sklearn.metrics import accuracy_score, f1_score,precision_score,recall_score,classification_report,confusion_matrix\n",
    "import matplotlib.pyplot as plt\n",
    "%matplotlib inline"
   ]
  },
  {
   "cell_type": "code",
   "execution_count": 2,
   "metadata": {},
   "outputs": [],
   "source": [
    "cancer_df = pd.read_csv(\"Prostate_Cancer.csv\")"
   ]
  },
  {
   "cell_type": "code",
   "execution_count": 3,
   "metadata": {},
   "outputs": [
    {
     "data": {
      "text/plain": [
       "(100, 10)"
      ]
     },
     "execution_count": 3,
     "metadata": {},
     "output_type": "execute_result"
    }
   ],
   "source": [
    "cancer_df.shape"
   ]
  },
  {
   "cell_type": "code",
   "execution_count": 4,
   "metadata": {},
   "outputs": [
    {
     "data": {
      "text/html": [
       "<div>\n",
       "<style scoped>\n",
       "    .dataframe tbody tr th:only-of-type {\n",
       "        vertical-align: middle;\n",
       "    }\n",
       "\n",
       "    .dataframe tbody tr th {\n",
       "        vertical-align: top;\n",
       "    }\n",
       "\n",
       "    .dataframe thead th {\n",
       "        text-align: right;\n",
       "    }\n",
       "</style>\n",
       "<table border=\"1\" class=\"dataframe\">\n",
       "  <thead>\n",
       "    <tr style=\"text-align: right;\">\n",
       "      <th></th>\n",
       "      <th>id</th>\n",
       "      <th>radius</th>\n",
       "      <th>texture</th>\n",
       "      <th>perimeter</th>\n",
       "      <th>area</th>\n",
       "      <th>smoothness</th>\n",
       "      <th>compactness</th>\n",
       "      <th>symmetry</th>\n",
       "      <th>fractal_dimension</th>\n",
       "    </tr>\n",
       "  </thead>\n",
       "  <tbody>\n",
       "    <tr>\n",
       "      <th>count</th>\n",
       "      <td>100.000000</td>\n",
       "      <td>100.000000</td>\n",
       "      <td>100.000000</td>\n",
       "      <td>100.000000</td>\n",
       "      <td>100.000000</td>\n",
       "      <td>100.000000</td>\n",
       "      <td>100.000000</td>\n",
       "      <td>100.000000</td>\n",
       "      <td>100.000000</td>\n",
       "    </tr>\n",
       "    <tr>\n",
       "      <th>mean</th>\n",
       "      <td>50.500000</td>\n",
       "      <td>16.850000</td>\n",
       "      <td>18.230000</td>\n",
       "      <td>96.780000</td>\n",
       "      <td>702.880000</td>\n",
       "      <td>0.102730</td>\n",
       "      <td>0.126700</td>\n",
       "      <td>0.193170</td>\n",
       "      <td>0.064690</td>\n",
       "    </tr>\n",
       "    <tr>\n",
       "      <th>std</th>\n",
       "      <td>29.011492</td>\n",
       "      <td>4.879094</td>\n",
       "      <td>5.192954</td>\n",
       "      <td>23.676089</td>\n",
       "      <td>319.710895</td>\n",
       "      <td>0.014642</td>\n",
       "      <td>0.061144</td>\n",
       "      <td>0.030785</td>\n",
       "      <td>0.008151</td>\n",
       "    </tr>\n",
       "    <tr>\n",
       "      <th>min</th>\n",
       "      <td>1.000000</td>\n",
       "      <td>9.000000</td>\n",
       "      <td>11.000000</td>\n",
       "      <td>52.000000</td>\n",
       "      <td>202.000000</td>\n",
       "      <td>0.070000</td>\n",
       "      <td>0.038000</td>\n",
       "      <td>0.135000</td>\n",
       "      <td>0.053000</td>\n",
       "    </tr>\n",
       "    <tr>\n",
       "      <th>25%</th>\n",
       "      <td>25.750000</td>\n",
       "      <td>12.000000</td>\n",
       "      <td>14.000000</td>\n",
       "      <td>82.500000</td>\n",
       "      <td>476.750000</td>\n",
       "      <td>0.093500</td>\n",
       "      <td>0.080500</td>\n",
       "      <td>0.172000</td>\n",
       "      <td>0.059000</td>\n",
       "    </tr>\n",
       "    <tr>\n",
       "      <th>50%</th>\n",
       "      <td>50.500000</td>\n",
       "      <td>17.000000</td>\n",
       "      <td>17.500000</td>\n",
       "      <td>94.000000</td>\n",
       "      <td>644.000000</td>\n",
       "      <td>0.102000</td>\n",
       "      <td>0.118500</td>\n",
       "      <td>0.190000</td>\n",
       "      <td>0.063000</td>\n",
       "    </tr>\n",
       "    <tr>\n",
       "      <th>75%</th>\n",
       "      <td>75.250000</td>\n",
       "      <td>21.000000</td>\n",
       "      <td>22.250000</td>\n",
       "      <td>114.250000</td>\n",
       "      <td>917.000000</td>\n",
       "      <td>0.112000</td>\n",
       "      <td>0.157000</td>\n",
       "      <td>0.209000</td>\n",
       "      <td>0.069000</td>\n",
       "    </tr>\n",
       "    <tr>\n",
       "      <th>max</th>\n",
       "      <td>100.000000</td>\n",
       "      <td>25.000000</td>\n",
       "      <td>27.000000</td>\n",
       "      <td>172.000000</td>\n",
       "      <td>1878.000000</td>\n",
       "      <td>0.143000</td>\n",
       "      <td>0.345000</td>\n",
       "      <td>0.304000</td>\n",
       "      <td>0.097000</td>\n",
       "    </tr>\n",
       "  </tbody>\n",
       "</table>\n",
       "</div>"
      ],
      "text/plain": [
       "               id      radius     texture   perimeter         area  \\\n",
       "count  100.000000  100.000000  100.000000  100.000000   100.000000   \n",
       "mean    50.500000   16.850000   18.230000   96.780000   702.880000   \n",
       "std     29.011492    4.879094    5.192954   23.676089   319.710895   \n",
       "min      1.000000    9.000000   11.000000   52.000000   202.000000   \n",
       "25%     25.750000   12.000000   14.000000   82.500000   476.750000   \n",
       "50%     50.500000   17.000000   17.500000   94.000000   644.000000   \n",
       "75%     75.250000   21.000000   22.250000  114.250000   917.000000   \n",
       "max    100.000000   25.000000   27.000000  172.000000  1878.000000   \n",
       "\n",
       "       smoothness  compactness    symmetry  fractal_dimension  \n",
       "count  100.000000   100.000000  100.000000         100.000000  \n",
       "mean     0.102730     0.126700    0.193170           0.064690  \n",
       "std      0.014642     0.061144    0.030785           0.008151  \n",
       "min      0.070000     0.038000    0.135000           0.053000  \n",
       "25%      0.093500     0.080500    0.172000           0.059000  \n",
       "50%      0.102000     0.118500    0.190000           0.063000  \n",
       "75%      0.112000     0.157000    0.209000           0.069000  \n",
       "max      0.143000     0.345000    0.304000           0.097000  "
      ]
     },
     "execution_count": 4,
     "metadata": {},
     "output_type": "execute_result"
    }
   ],
   "source": [
    "cancer_df.describe()"
   ]
  },
  {
   "cell_type": "code",
   "execution_count": 5,
   "metadata": {},
   "outputs": [
    {
     "data": {
      "text/html": [
       "<div>\n",
       "<style scoped>\n",
       "    .dataframe tbody tr th:only-of-type {\n",
       "        vertical-align: middle;\n",
       "    }\n",
       "\n",
       "    .dataframe tbody tr th {\n",
       "        vertical-align: top;\n",
       "    }\n",
       "\n",
       "    .dataframe thead th {\n",
       "        text-align: right;\n",
       "    }\n",
       "</style>\n",
       "<table border=\"1\" class=\"dataframe\">\n",
       "  <thead>\n",
       "    <tr style=\"text-align: right;\">\n",
       "      <th></th>\n",
       "      <th>id</th>\n",
       "      <th>diagnosis_result</th>\n",
       "      <th>radius</th>\n",
       "      <th>texture</th>\n",
       "      <th>perimeter</th>\n",
       "      <th>area</th>\n",
       "      <th>smoothness</th>\n",
       "      <th>compactness</th>\n",
       "      <th>symmetry</th>\n",
       "      <th>fractal_dimension</th>\n",
       "    </tr>\n",
       "  </thead>\n",
       "  <tbody>\n",
       "    <tr>\n",
       "      <th>0</th>\n",
       "      <td>1</td>\n",
       "      <td>M</td>\n",
       "      <td>23</td>\n",
       "      <td>12</td>\n",
       "      <td>151</td>\n",
       "      <td>954</td>\n",
       "      <td>0.143</td>\n",
       "      <td>0.278</td>\n",
       "      <td>0.242</td>\n",
       "      <td>0.079</td>\n",
       "    </tr>\n",
       "    <tr>\n",
       "      <th>1</th>\n",
       "      <td>2</td>\n",
       "      <td>B</td>\n",
       "      <td>9</td>\n",
       "      <td>13</td>\n",
       "      <td>133</td>\n",
       "      <td>1326</td>\n",
       "      <td>0.143</td>\n",
       "      <td>0.079</td>\n",
       "      <td>0.181</td>\n",
       "      <td>0.057</td>\n",
       "    </tr>\n",
       "    <tr>\n",
       "      <th>2</th>\n",
       "      <td>3</td>\n",
       "      <td>M</td>\n",
       "      <td>21</td>\n",
       "      <td>27</td>\n",
       "      <td>130</td>\n",
       "      <td>1203</td>\n",
       "      <td>0.125</td>\n",
       "      <td>0.160</td>\n",
       "      <td>0.207</td>\n",
       "      <td>0.060</td>\n",
       "    </tr>\n",
       "    <tr>\n",
       "      <th>3</th>\n",
       "      <td>4</td>\n",
       "      <td>M</td>\n",
       "      <td>14</td>\n",
       "      <td>16</td>\n",
       "      <td>78</td>\n",
       "      <td>386</td>\n",
       "      <td>0.070</td>\n",
       "      <td>0.284</td>\n",
       "      <td>0.260</td>\n",
       "      <td>0.097</td>\n",
       "    </tr>\n",
       "    <tr>\n",
       "      <th>4</th>\n",
       "      <td>5</td>\n",
       "      <td>M</td>\n",
       "      <td>9</td>\n",
       "      <td>19</td>\n",
       "      <td>135</td>\n",
       "      <td>1297</td>\n",
       "      <td>0.141</td>\n",
       "      <td>0.133</td>\n",
       "      <td>0.181</td>\n",
       "      <td>0.059</td>\n",
       "    </tr>\n",
       "  </tbody>\n",
       "</table>\n",
       "</div>"
      ],
      "text/plain": [
       "   id diagnosis_result  radius  texture  perimeter  area  smoothness  \\\n",
       "0   1                M      23       12        151   954       0.143   \n",
       "1   2                B       9       13        133  1326       0.143   \n",
       "2   3                M      21       27        130  1203       0.125   \n",
       "3   4                M      14       16         78   386       0.070   \n",
       "4   5                M       9       19        135  1297       0.141   \n",
       "\n",
       "   compactness  symmetry  fractal_dimension  \n",
       "0        0.278     0.242              0.079  \n",
       "1        0.079     0.181              0.057  \n",
       "2        0.160     0.207              0.060  \n",
       "3        0.284     0.260              0.097  \n",
       "4        0.133     0.181              0.059  "
      ]
     },
     "execution_count": 5,
     "metadata": {},
     "output_type": "execute_result"
    }
   ],
   "source": [
    "cancer_df.head(5)"
   ]
  },
  {
   "cell_type": "code",
   "execution_count": 6,
   "metadata": {},
   "outputs": [],
   "source": [
    "# Removing the id column as it has unique values and doesnot determine the cancer.\n",
    "cancer_df = cancer_df.iloc[:,1:]"
   ]
  },
  {
   "cell_type": "code",
   "execution_count": 7,
   "metadata": {},
   "outputs": [
    {
     "data": {
      "text/html": [
       "<div>\n",
       "<style scoped>\n",
       "    .dataframe tbody tr th:only-of-type {\n",
       "        vertical-align: middle;\n",
       "    }\n",
       "\n",
       "    .dataframe tbody tr th {\n",
       "        vertical-align: top;\n",
       "    }\n",
       "\n",
       "    .dataframe thead th {\n",
       "        text-align: right;\n",
       "    }\n",
       "</style>\n",
       "<table border=\"1\" class=\"dataframe\">\n",
       "  <thead>\n",
       "    <tr style=\"text-align: right;\">\n",
       "      <th></th>\n",
       "      <th>diagnosis_result</th>\n",
       "      <th>radius</th>\n",
       "      <th>texture</th>\n",
       "      <th>perimeter</th>\n",
       "      <th>area</th>\n",
       "      <th>smoothness</th>\n",
       "      <th>compactness</th>\n",
       "      <th>symmetry</th>\n",
       "      <th>fractal_dimension</th>\n",
       "    </tr>\n",
       "  </thead>\n",
       "  <tbody>\n",
       "    <tr>\n",
       "      <th>0</th>\n",
       "      <td>M</td>\n",
       "      <td>23</td>\n",
       "      <td>12</td>\n",
       "      <td>151</td>\n",
       "      <td>954</td>\n",
       "      <td>0.143</td>\n",
       "      <td>0.278</td>\n",
       "      <td>0.242</td>\n",
       "      <td>0.079</td>\n",
       "    </tr>\n",
       "    <tr>\n",
       "      <th>1</th>\n",
       "      <td>B</td>\n",
       "      <td>9</td>\n",
       "      <td>13</td>\n",
       "      <td>133</td>\n",
       "      <td>1326</td>\n",
       "      <td>0.143</td>\n",
       "      <td>0.079</td>\n",
       "      <td>0.181</td>\n",
       "      <td>0.057</td>\n",
       "    </tr>\n",
       "    <tr>\n",
       "      <th>2</th>\n",
       "      <td>M</td>\n",
       "      <td>21</td>\n",
       "      <td>27</td>\n",
       "      <td>130</td>\n",
       "      <td>1203</td>\n",
       "      <td>0.125</td>\n",
       "      <td>0.160</td>\n",
       "      <td>0.207</td>\n",
       "      <td>0.060</td>\n",
       "    </tr>\n",
       "    <tr>\n",
       "      <th>3</th>\n",
       "      <td>M</td>\n",
       "      <td>14</td>\n",
       "      <td>16</td>\n",
       "      <td>78</td>\n",
       "      <td>386</td>\n",
       "      <td>0.070</td>\n",
       "      <td>0.284</td>\n",
       "      <td>0.260</td>\n",
       "      <td>0.097</td>\n",
       "    </tr>\n",
       "    <tr>\n",
       "      <th>4</th>\n",
       "      <td>M</td>\n",
       "      <td>9</td>\n",
       "      <td>19</td>\n",
       "      <td>135</td>\n",
       "      <td>1297</td>\n",
       "      <td>0.141</td>\n",
       "      <td>0.133</td>\n",
       "      <td>0.181</td>\n",
       "      <td>0.059</td>\n",
       "    </tr>\n",
       "  </tbody>\n",
       "</table>\n",
       "</div>"
      ],
      "text/plain": [
       "  diagnosis_result  radius  texture  perimeter  area  smoothness  compactness  \\\n",
       "0                M      23       12        151   954       0.143        0.278   \n",
       "1                B       9       13        133  1326       0.143        0.079   \n",
       "2                M      21       27        130  1203       0.125        0.160   \n",
       "3                M      14       16         78   386       0.070        0.284   \n",
       "4                M       9       19        135  1297       0.141        0.133   \n",
       "\n",
       "   symmetry  fractal_dimension  \n",
       "0     0.242              0.079  \n",
       "1     0.181              0.057  \n",
       "2     0.207              0.060  \n",
       "3     0.260              0.097  \n",
       "4     0.181              0.059  "
      ]
     },
     "execution_count": 7,
     "metadata": {},
     "output_type": "execute_result"
    }
   ],
   "source": [
    "cancer_df.head(5)"
   ]
  },
  {
   "cell_type": "code",
   "execution_count": 8,
   "metadata": {},
   "outputs": [
    {
     "data": {
      "text/plain": [
       "diagnosis_result     0\n",
       "radius               0\n",
       "texture              0\n",
       "perimeter            0\n",
       "area                 0\n",
       "smoothness           0\n",
       "compactness          0\n",
       "symmetry             0\n",
       "fractal_dimension    0\n",
       "dtype: int64"
      ]
     },
     "execution_count": 8,
     "metadata": {},
     "output_type": "execute_result"
    }
   ],
   "source": [
    "cancer_df.isnull().sum()"
   ]
  },
  {
   "cell_type": "code",
   "execution_count": 9,
   "metadata": {},
   "outputs": [
    {
     "data": {
      "text/plain": [
       "M    62\n",
       "B    38\n",
       "Name: diagnosis_result, dtype: int64"
      ]
     },
     "execution_count": 9,
     "metadata": {},
     "output_type": "execute_result"
    }
   ],
   "source": [
    "cancer_df['diagnosis_result'].value_counts()"
   ]
  },
  {
   "cell_type": "code",
   "execution_count": 10,
   "metadata": {},
   "outputs": [],
   "source": [
    "cancer_df['diagnosis_result'].replace(('M', 'B'), (1, 0), inplace=True)"
   ]
  },
  {
   "cell_type": "code",
   "execution_count": 11,
   "metadata": {},
   "outputs": [
    {
     "data": {
      "text/plain": [
       "0    1\n",
       "1    0\n",
       "2    1\n",
       "3    1\n",
       "4    1\n",
       "Name: diagnosis_result, dtype: int64"
      ]
     },
     "execution_count": 11,
     "metadata": {},
     "output_type": "execute_result"
    }
   ],
   "source": [
    "cancer_df['diagnosis_result'][:5]"
   ]
  },
  {
   "cell_type": "code",
   "execution_count": 12,
   "metadata": {},
   "outputs": [],
   "source": [
    "def normalizefun(col):\n",
    "    return ((col - min(col)) / (max(col) - min(col)))"
   ]
  },
  {
   "cell_type": "code",
   "execution_count": 13,
   "metadata": {},
   "outputs": [
    {
     "data": {
      "text/html": [
       "<div>\n",
       "<style scoped>\n",
       "    .dataframe tbody tr th:only-of-type {\n",
       "        vertical-align: middle;\n",
       "    }\n",
       "\n",
       "    .dataframe tbody tr th {\n",
       "        vertical-align: top;\n",
       "    }\n",
       "\n",
       "    .dataframe thead th {\n",
       "        text-align: right;\n",
       "    }\n",
       "</style>\n",
       "<table border=\"1\" class=\"dataframe\">\n",
       "  <thead>\n",
       "    <tr style=\"text-align: right;\">\n",
       "      <th></th>\n",
       "      <th>radius</th>\n",
       "      <th>texture</th>\n",
       "      <th>perimeter</th>\n",
       "      <th>area</th>\n",
       "      <th>smoothness</th>\n",
       "      <th>compactness</th>\n",
       "      <th>symmetry</th>\n",
       "      <th>fractal_dimension</th>\n",
       "    </tr>\n",
       "  </thead>\n",
       "  <tbody>\n",
       "    <tr>\n",
       "      <th>0</th>\n",
       "      <td>0.8750</td>\n",
       "      <td>0.0625</td>\n",
       "      <td>0.825000</td>\n",
       "      <td>0.448687</td>\n",
       "      <td>1.000000</td>\n",
       "      <td>0.781759</td>\n",
       "      <td>0.633136</td>\n",
       "      <td>0.590909</td>\n",
       "    </tr>\n",
       "    <tr>\n",
       "      <th>1</th>\n",
       "      <td>0.0000</td>\n",
       "      <td>0.1250</td>\n",
       "      <td>0.675000</td>\n",
       "      <td>0.670644</td>\n",
       "      <td>1.000000</td>\n",
       "      <td>0.133550</td>\n",
       "      <td>0.272189</td>\n",
       "      <td>0.090909</td>\n",
       "    </tr>\n",
       "    <tr>\n",
       "      <th>2</th>\n",
       "      <td>0.7500</td>\n",
       "      <td>1.0000</td>\n",
       "      <td>0.650000</td>\n",
       "      <td>0.597255</td>\n",
       "      <td>0.753425</td>\n",
       "      <td>0.397394</td>\n",
       "      <td>0.426036</td>\n",
       "      <td>0.159091</td>\n",
       "    </tr>\n",
       "    <tr>\n",
       "      <th>3</th>\n",
       "      <td>0.3125</td>\n",
       "      <td>0.3125</td>\n",
       "      <td>0.216667</td>\n",
       "      <td>0.109785</td>\n",
       "      <td>0.000000</td>\n",
       "      <td>0.801303</td>\n",
       "      <td>0.739645</td>\n",
       "      <td>1.000000</td>\n",
       "    </tr>\n",
       "    <tr>\n",
       "      <th>4</th>\n",
       "      <td>0.0000</td>\n",
       "      <td>0.5000</td>\n",
       "      <td>0.691667</td>\n",
       "      <td>0.653341</td>\n",
       "      <td>0.972603</td>\n",
       "      <td>0.309446</td>\n",
       "      <td>0.272189</td>\n",
       "      <td>0.136364</td>\n",
       "    </tr>\n",
       "    <tr>\n",
       "      <th>5</th>\n",
       "      <td>1.0000</td>\n",
       "      <td>0.8750</td>\n",
       "      <td>0.258333</td>\n",
       "      <td>0.164081</td>\n",
       "      <td>0.794521</td>\n",
       "      <td>0.429967</td>\n",
       "      <td>0.437870</td>\n",
       "      <td>0.522727</td>\n",
       "    </tr>\n",
       "    <tr>\n",
       "      <th>6</th>\n",
       "      <td>0.4375</td>\n",
       "      <td>0.9375</td>\n",
       "      <td>0.566667</td>\n",
       "      <td>0.500000</td>\n",
       "      <td>0.342466</td>\n",
       "      <td>0.231270</td>\n",
       "      <td>0.260355</td>\n",
       "      <td>0.090909</td>\n",
       "    </tr>\n",
       "    <tr>\n",
       "      <th>7</th>\n",
       "      <td>0.3750</td>\n",
       "      <td>0.4375</td>\n",
       "      <td>0.316667</td>\n",
       "      <td>0.224344</td>\n",
       "      <td>0.671233</td>\n",
       "      <td>0.413681</td>\n",
       "      <td>0.502959</td>\n",
       "      <td>0.500000</td>\n",
       "    </tr>\n",
       "    <tr>\n",
       "      <th>8</th>\n",
       "      <td>0.6250</td>\n",
       "      <td>0.8125</td>\n",
       "      <td>0.300000</td>\n",
       "      <td>0.189737</td>\n",
       "      <td>0.780822</td>\n",
       "      <td>0.504886</td>\n",
       "      <td>0.591716</td>\n",
       "      <td>0.477273</td>\n",
       "    </tr>\n",
       "    <tr>\n",
       "      <th>9</th>\n",
       "      <td>1.0000</td>\n",
       "      <td>0.0000</td>\n",
       "      <td>0.266667</td>\n",
       "      <td>0.163484</td>\n",
       "      <td>0.671233</td>\n",
       "      <td>0.657980</td>\n",
       "      <td>0.402367</td>\n",
       "      <td>0.659091</td>\n",
       "    </tr>\n",
       "    <tr>\n",
       "      <th>10</th>\n",
       "      <td>0.9375</td>\n",
       "      <td>0.6250</td>\n",
       "      <td>0.425000</td>\n",
       "      <td>0.355609</td>\n",
       "      <td>0.164384</td>\n",
       "      <td>0.094463</td>\n",
       "      <td>0.106509</td>\n",
       "      <td>0.090909</td>\n",
       "    </tr>\n",
       "    <tr>\n",
       "      <th>11</th>\n",
       "      <td>0.5000</td>\n",
       "      <td>0.2500</td>\n",
       "      <td>0.433333</td>\n",
       "      <td>0.345465</td>\n",
       "      <td>0.369863</td>\n",
       "      <td>0.296417</td>\n",
       "      <td>0.289941</td>\n",
       "      <td>0.181818</td>\n",
       "    </tr>\n",
       "    <tr>\n",
       "      <th>12</th>\n",
       "      <td>0.3125</td>\n",
       "      <td>0.2500</td>\n",
       "      <td>0.666667</td>\n",
       "      <td>0.549523</td>\n",
       "      <td>0.369863</td>\n",
       "      <td>0.677524</td>\n",
       "      <td>0.621302</td>\n",
       "      <td>0.568182</td>\n",
       "    </tr>\n",
       "    <tr>\n",
       "      <th>13</th>\n",
       "      <td>0.1875</td>\n",
       "      <td>0.6875</td>\n",
       "      <td>0.433333</td>\n",
       "      <td>0.346659</td>\n",
       "      <td>0.191781</td>\n",
       "      <td>0.201954</td>\n",
       "      <td>0.295858</td>\n",
       "      <td>0.000000</td>\n",
       "    </tr>\n",
       "    <tr>\n",
       "      <th>14</th>\n",
       "      <td>0.1875</td>\n",
       "      <td>0.1250</td>\n",
       "      <td>0.350000</td>\n",
       "      <td>0.224344</td>\n",
       "      <td>0.589041</td>\n",
       "      <td>0.622150</td>\n",
       "      <td>0.426036</td>\n",
       "      <td>0.545455</td>\n",
       "    </tr>\n",
       "    <tr>\n",
       "      <th>15</th>\n",
       "      <td>0.8125</td>\n",
       "      <td>0.5000</td>\n",
       "      <td>0.375000</td>\n",
       "      <td>0.272673</td>\n",
       "      <td>0.602740</td>\n",
       "      <td>0.397394</td>\n",
       "      <td>0.562130</td>\n",
       "      <td>0.409091</td>\n",
       "    </tr>\n",
       "    <tr>\n",
       "      <th>16</th>\n",
       "      <td>0.0625</td>\n",
       "      <td>0.3125</td>\n",
       "      <td>0.358333</td>\n",
       "      <td>0.288186</td>\n",
       "      <td>0.397260</td>\n",
       "      <td>0.110749</td>\n",
       "      <td>0.142012</td>\n",
       "      <td>0.136364</td>\n",
       "    </tr>\n",
       "    <tr>\n",
       "      <th>17</th>\n",
       "      <td>0.3750</td>\n",
       "      <td>0.1875</td>\n",
       "      <td>0.466667</td>\n",
       "      <td>0.356205</td>\n",
       "      <td>0.643836</td>\n",
       "      <td>0.534202</td>\n",
       "      <td>0.479290</td>\n",
       "      <td>0.477273</td>\n",
       "    </tr>\n",
       "    <tr>\n",
       "      <th>18</th>\n",
       "      <td>0.6875</td>\n",
       "      <td>0.1875</td>\n",
       "      <td>0.650000</td>\n",
       "      <td>0.631265</td>\n",
       "      <td>0.383562</td>\n",
       "      <td>0.211726</td>\n",
       "      <td>0.136095</td>\n",
       "      <td>0.022727</td>\n",
       "    </tr>\n",
       "    <tr>\n",
       "      <th>19</th>\n",
       "      <td>0.5000</td>\n",
       "      <td>0.0000</td>\n",
       "      <td>0.291667</td>\n",
       "      <td>0.217184</td>\n",
       "      <td>0.383562</td>\n",
       "      <td>0.140065</td>\n",
       "      <td>0.319527</td>\n",
       "      <td>0.113636</td>\n",
       "    </tr>\n",
       "    <tr>\n",
       "      <th>20</th>\n",
       "      <td>0.4375</td>\n",
       "      <td>0.1875</td>\n",
       "      <td>0.283333</td>\n",
       "      <td>0.189737</td>\n",
       "      <td>0.520548</td>\n",
       "      <td>0.289902</td>\n",
       "      <td>0.366864</td>\n",
       "      <td>0.340909</td>\n",
       "    </tr>\n",
       "    <tr>\n",
       "      <th>21</th>\n",
       "      <td>0.5000</td>\n",
       "      <td>0.8125</td>\n",
       "      <td>0.066667</td>\n",
       "      <td>0.042959</td>\n",
       "      <td>0.438356</td>\n",
       "      <td>0.087948</td>\n",
       "      <td>0.278107</td>\n",
       "      <td>0.363636</td>\n",
       "    </tr>\n",
       "    <tr>\n",
       "      <th>22</th>\n",
       "      <td>0.6875</td>\n",
       "      <td>1.0000</td>\n",
       "      <td>0.425000</td>\n",
       "      <td>0.299523</td>\n",
       "      <td>0.506849</td>\n",
       "      <td>0.573290</td>\n",
       "      <td>0.692308</td>\n",
       "      <td>0.386364</td>\n",
       "    </tr>\n",
       "    <tr>\n",
       "      <th>23</th>\n",
       "      <td>0.6250</td>\n",
       "      <td>0.0625</td>\n",
       "      <td>0.708333</td>\n",
       "      <td>0.717184</td>\n",
       "      <td>0.328767</td>\n",
       "      <td>0.208469</td>\n",
       "      <td>0.248521</td>\n",
       "      <td>0.000000</td>\n",
       "    </tr>\n",
       "    <tr>\n",
       "      <th>24</th>\n",
       "      <td>0.0000</td>\n",
       "      <td>0.1250</td>\n",
       "      <td>0.483333</td>\n",
       "      <td>0.419451</td>\n",
       "      <td>0.575342</td>\n",
       "      <td>0.351792</td>\n",
       "      <td>0.384615</td>\n",
       "      <td>0.227273</td>\n",
       "    </tr>\n",
       "    <tr>\n",
       "      <th>25</th>\n",
       "      <td>0.6250</td>\n",
       "      <td>1.0000</td>\n",
       "      <td>0.533333</td>\n",
       "      <td>0.424224</td>\n",
       "      <td>0.671233</td>\n",
       "      <td>0.618893</td>\n",
       "      <td>1.000000</td>\n",
       "      <td>0.477273</td>\n",
       "    </tr>\n",
       "    <tr>\n",
       "      <th>26</th>\n",
       "      <td>0.0625</td>\n",
       "      <td>0.8125</td>\n",
       "      <td>0.375000</td>\n",
       "      <td>0.264320</td>\n",
       "      <td>0.479452</td>\n",
       "      <td>0.485342</td>\n",
       "      <td>0.532544</td>\n",
       "      <td>0.363636</td>\n",
       "    </tr>\n",
       "    <tr>\n",
       "      <th>27</th>\n",
       "      <td>0.4375</td>\n",
       "      <td>0.8125</td>\n",
       "      <td>0.583333</td>\n",
       "      <td>0.532220</td>\n",
       "      <td>0.328767</td>\n",
       "      <td>0.224756</td>\n",
       "      <td>0.207101</td>\n",
       "      <td>0.090909</td>\n",
       "    </tr>\n",
       "    <tr>\n",
       "      <th>28</th>\n",
       "      <td>0.3750</td>\n",
       "      <td>0.2500</td>\n",
       "      <td>0.416667</td>\n",
       "      <td>0.316229</td>\n",
       "      <td>0.520548</td>\n",
       "      <td>0.429967</td>\n",
       "      <td>0.343195</td>\n",
       "      <td>0.272727</td>\n",
       "    </tr>\n",
       "    <tr>\n",
       "      <th>29</th>\n",
       "      <td>0.1250</td>\n",
       "      <td>0.3125</td>\n",
       "      <td>0.525000</td>\n",
       "      <td>0.449284</td>\n",
       "      <td>0.383562</td>\n",
       "      <td>0.254072</td>\n",
       "      <td>0.230769</td>\n",
       "      <td>0.181818</td>\n",
       "    </tr>\n",
       "    <tr>\n",
       "      <th>...</th>\n",
       "      <td>...</td>\n",
       "      <td>...</td>\n",
       "      <td>...</td>\n",
       "      <td>...</td>\n",
       "      <td>...</td>\n",
       "      <td>...</td>\n",
       "      <td>...</td>\n",
       "      <td>...</td>\n",
       "    </tr>\n",
       "    <tr>\n",
       "      <th>70</th>\n",
       "      <td>0.7500</td>\n",
       "      <td>0.4375</td>\n",
       "      <td>0.600000</td>\n",
       "      <td>0.553699</td>\n",
       "      <td>0.273973</td>\n",
       "      <td>0.211726</td>\n",
       "      <td>0.136095</td>\n",
       "      <td>0.045455</td>\n",
       "    </tr>\n",
       "    <tr>\n",
       "      <th>71</th>\n",
       "      <td>0.0000</td>\n",
       "      <td>0.9375</td>\n",
       "      <td>0.058333</td>\n",
       "      <td>0.025060</td>\n",
       "      <td>0.383562</td>\n",
       "      <td>0.374593</td>\n",
       "      <td>0.325444</td>\n",
       "      <td>0.840909</td>\n",
       "    </tr>\n",
       "    <tr>\n",
       "      <th>72</th>\n",
       "      <td>0.7500</td>\n",
       "      <td>0.0625</td>\n",
       "      <td>0.516667</td>\n",
       "      <td>0.433771</td>\n",
       "      <td>0.506849</td>\n",
       "      <td>0.472313</td>\n",
       "      <td>0.343195</td>\n",
       "      <td>0.272727</td>\n",
       "    </tr>\n",
       "    <tr>\n",
       "      <th>73</th>\n",
       "      <td>0.8125</td>\n",
       "      <td>0.8750</td>\n",
       "      <td>0.316667</td>\n",
       "      <td>0.227924</td>\n",
       "      <td>0.424658</td>\n",
       "      <td>0.293160</td>\n",
       "      <td>0.183432</td>\n",
       "      <td>0.295455</td>\n",
       "    </tr>\n",
       "    <tr>\n",
       "      <th>74</th>\n",
       "      <td>0.5625</td>\n",
       "      <td>0.1250</td>\n",
       "      <td>0.225000</td>\n",
       "      <td>0.160501</td>\n",
       "      <td>0.301370</td>\n",
       "      <td>0.097720</td>\n",
       "      <td>0.218935</td>\n",
       "      <td>0.136364</td>\n",
       "    </tr>\n",
       "    <tr>\n",
       "      <th>75</th>\n",
       "      <td>0.7500</td>\n",
       "      <td>0.4375</td>\n",
       "      <td>0.433333</td>\n",
       "      <td>0.367542</td>\n",
       "      <td>0.301370</td>\n",
       "      <td>0.149837</td>\n",
       "      <td>0.266272</td>\n",
       "      <td>0.022727</td>\n",
       "    </tr>\n",
       "    <tr>\n",
       "      <th>76</th>\n",
       "      <td>0.0625</td>\n",
       "      <td>0.3750</td>\n",
       "      <td>0.300000</td>\n",
       "      <td>0.213007</td>\n",
       "      <td>0.808219</td>\n",
       "      <td>0.218241</td>\n",
       "      <td>0.621302</td>\n",
       "      <td>0.295455</td>\n",
       "    </tr>\n",
       "    <tr>\n",
       "      <th>77</th>\n",
       "      <td>0.1250</td>\n",
       "      <td>0.6250</td>\n",
       "      <td>0.566667</td>\n",
       "      <td>0.479714</td>\n",
       "      <td>0.506849</td>\n",
       "      <td>0.576547</td>\n",
       "      <td>0.473373</td>\n",
       "      <td>0.318182</td>\n",
       "    </tr>\n",
       "    <tr>\n",
       "      <th>78</th>\n",
       "      <td>0.4375</td>\n",
       "      <td>0.4375</td>\n",
       "      <td>0.766667</td>\n",
       "      <td>0.622315</td>\n",
       "      <td>0.808219</td>\n",
       "      <td>1.000000</td>\n",
       "      <td>0.923077</td>\n",
       "      <td>0.636364</td>\n",
       "    </tr>\n",
       "    <tr>\n",
       "      <th>79</th>\n",
       "      <td>0.8125</td>\n",
       "      <td>0.3125</td>\n",
       "      <td>0.258333</td>\n",
       "      <td>0.181384</td>\n",
       "      <td>0.397260</td>\n",
       "      <td>0.185668</td>\n",
       "      <td>0.218935</td>\n",
       "      <td>0.159091</td>\n",
       "    </tr>\n",
       "    <tr>\n",
       "      <th>80</th>\n",
       "      <td>0.0625</td>\n",
       "      <td>0.4375</td>\n",
       "      <td>0.183333</td>\n",
       "      <td>0.119332</td>\n",
       "      <td>0.547945</td>\n",
       "      <td>0.182410</td>\n",
       "      <td>0.289941</td>\n",
       "      <td>0.386364</td>\n",
       "    </tr>\n",
       "    <tr>\n",
       "      <th>81</th>\n",
       "      <td>0.5000</td>\n",
       "      <td>0.6250</td>\n",
       "      <td>0.283333</td>\n",
       "      <td>0.189737</td>\n",
       "      <td>0.520548</td>\n",
       "      <td>0.377850</td>\n",
       "      <td>0.349112</td>\n",
       "      <td>0.363636</td>\n",
       "    </tr>\n",
       "    <tr>\n",
       "      <th>82</th>\n",
       "      <td>0.0625</td>\n",
       "      <td>0.2500</td>\n",
       "      <td>1.000000</td>\n",
       "      <td>1.000000</td>\n",
       "      <td>0.493151</td>\n",
       "      <td>0.745928</td>\n",
       "      <td>0.284024</td>\n",
       "      <td>0.340909</td>\n",
       "    </tr>\n",
       "    <tr>\n",
       "      <th>83</th>\n",
       "      <td>0.6875</td>\n",
       "      <td>0.1875</td>\n",
       "      <td>0.641667</td>\n",
       "      <td>0.554893</td>\n",
       "      <td>0.712329</td>\n",
       "      <td>0.459283</td>\n",
       "      <td>0.165680</td>\n",
       "      <td>0.431818</td>\n",
       "    </tr>\n",
       "    <tr>\n",
       "      <th>84</th>\n",
       "      <td>1.0000</td>\n",
       "      <td>0.6250</td>\n",
       "      <td>0.208333</td>\n",
       "      <td>0.143795</td>\n",
       "      <td>0.369863</td>\n",
       "      <td>0.110749</td>\n",
       "      <td>0.431953</td>\n",
       "      <td>0.159091</td>\n",
       "    </tr>\n",
       "    <tr>\n",
       "      <th>85</th>\n",
       "      <td>0.3125</td>\n",
       "      <td>0.1250</td>\n",
       "      <td>0.575000</td>\n",
       "      <td>0.520883</td>\n",
       "      <td>0.397260</td>\n",
       "      <td>0.218241</td>\n",
       "      <td>0.461538</td>\n",
       "      <td>0.159091</td>\n",
       "    </tr>\n",
       "    <tr>\n",
       "      <th>86</th>\n",
       "      <td>0.6250</td>\n",
       "      <td>0.9375</td>\n",
       "      <td>0.350000</td>\n",
       "      <td>0.266110</td>\n",
       "      <td>0.328767</td>\n",
       "      <td>0.198697</td>\n",
       "      <td>0.431953</td>\n",
       "      <td>0.068182</td>\n",
       "    </tr>\n",
       "    <tr>\n",
       "      <th>87</th>\n",
       "      <td>0.6250</td>\n",
       "      <td>0.0000</td>\n",
       "      <td>0.583333</td>\n",
       "      <td>0.521480</td>\n",
       "      <td>0.273973</td>\n",
       "      <td>0.270358</td>\n",
       "      <td>0.355030</td>\n",
       "      <td>0.068182</td>\n",
       "    </tr>\n",
       "    <tr>\n",
       "      <th>88</th>\n",
       "      <td>0.1250</td>\n",
       "      <td>0.0000</td>\n",
       "      <td>0.233333</td>\n",
       "      <td>0.157518</td>\n",
       "      <td>0.246575</td>\n",
       "      <td>0.182410</td>\n",
       "      <td>0.343195</td>\n",
       "      <td>0.250000</td>\n",
       "    </tr>\n",
       "    <tr>\n",
       "      <th>89</th>\n",
       "      <td>0.1875</td>\n",
       "      <td>0.7500</td>\n",
       "      <td>0.366667</td>\n",
       "      <td>0.268496</td>\n",
       "      <td>0.589041</td>\n",
       "      <td>0.312704</td>\n",
       "      <td>0.455621</td>\n",
       "      <td>0.227273</td>\n",
       "    </tr>\n",
       "    <tr>\n",
       "      <th>90</th>\n",
       "      <td>0.8750</td>\n",
       "      <td>1.0000</td>\n",
       "      <td>0.358333</td>\n",
       "      <td>0.275060</td>\n",
       "      <td>0.273973</td>\n",
       "      <td>0.156352</td>\n",
       "      <td>0.201183</td>\n",
       "      <td>0.136364</td>\n",
       "    </tr>\n",
       "    <tr>\n",
       "      <th>91</th>\n",
       "      <td>0.0625</td>\n",
       "      <td>0.0625</td>\n",
       "      <td>0.400000</td>\n",
       "      <td>0.313842</td>\n",
       "      <td>0.301370</td>\n",
       "      <td>0.214984</td>\n",
       "      <td>0.218935</td>\n",
       "      <td>0.181818</td>\n",
       "    </tr>\n",
       "    <tr>\n",
       "      <th>92</th>\n",
       "      <td>0.3125</td>\n",
       "      <td>0.1875</td>\n",
       "      <td>0.275000</td>\n",
       "      <td>0.208831</td>\n",
       "      <td>0.054795</td>\n",
       "      <td>0.042345</td>\n",
       "      <td>0.023669</td>\n",
       "      <td>0.000000</td>\n",
       "    </tr>\n",
       "    <tr>\n",
       "      <th>93</th>\n",
       "      <td>0.0625</td>\n",
       "      <td>0.3750</td>\n",
       "      <td>0.291667</td>\n",
       "      <td>0.210621</td>\n",
       "      <td>0.438356</td>\n",
       "      <td>0.143322</td>\n",
       "      <td>0.171598</td>\n",
       "      <td>0.090909</td>\n",
       "    </tr>\n",
       "    <tr>\n",
       "      <th>94</th>\n",
       "      <td>0.8125</td>\n",
       "      <td>0.9375</td>\n",
       "      <td>0.400000</td>\n",
       "      <td>0.300716</td>\n",
       "      <td>0.465753</td>\n",
       "      <td>0.381107</td>\n",
       "      <td>0.301775</td>\n",
       "      <td>0.227273</td>\n",
       "    </tr>\n",
       "    <tr>\n",
       "      <th>95</th>\n",
       "      <td>0.8750</td>\n",
       "      <td>0.3125</td>\n",
       "      <td>0.666667</td>\n",
       "      <td>0.633652</td>\n",
       "      <td>0.287671</td>\n",
       "      <td>0.302932</td>\n",
       "      <td>0.443787</td>\n",
       "      <td>0.068182</td>\n",
       "    </tr>\n",
       "    <tr>\n",
       "      <th>96</th>\n",
       "      <td>0.8125</td>\n",
       "      <td>0.1875</td>\n",
       "      <td>0.216667</td>\n",
       "      <td>0.148568</td>\n",
       "      <td>0.479452</td>\n",
       "      <td>0.107492</td>\n",
       "      <td>0.325444</td>\n",
       "      <td>0.295455</td>\n",
       "    </tr>\n",
       "    <tr>\n",
       "      <th>97</th>\n",
       "      <td>0.6250</td>\n",
       "      <td>1.0000</td>\n",
       "      <td>0.083333</td>\n",
       "      <td>0.055489</td>\n",
       "      <td>0.438356</td>\n",
       "      <td>0.048860</td>\n",
       "      <td>0.000000</td>\n",
       "      <td>0.363636</td>\n",
       "    </tr>\n",
       "    <tr>\n",
       "      <th>98</th>\n",
       "      <td>0.7500</td>\n",
       "      <td>0.8125</td>\n",
       "      <td>0.183333</td>\n",
       "      <td>0.125895</td>\n",
       "      <td>0.273973</td>\n",
       "      <td>0.120521</td>\n",
       "      <td>0.159763</td>\n",
       "      <td>0.295455</td>\n",
       "    </tr>\n",
       "    <tr>\n",
       "      <th>99</th>\n",
       "      <td>0.4375</td>\n",
       "      <td>1.0000</td>\n",
       "      <td>0.350000</td>\n",
       "      <td>0.263126</td>\n",
       "      <td>0.383562</td>\n",
       "      <td>0.247557</td>\n",
       "      <td>0.313609</td>\n",
       "      <td>0.250000</td>\n",
       "    </tr>\n",
       "  </tbody>\n",
       "</table>\n",
       "<p>100 rows × 8 columns</p>\n",
       "</div>"
      ],
      "text/plain": [
       "    radius  texture  perimeter      area  smoothness  compactness  symmetry  \\\n",
       "0   0.8750   0.0625   0.825000  0.448687    1.000000     0.781759  0.633136   \n",
       "1   0.0000   0.1250   0.675000  0.670644    1.000000     0.133550  0.272189   \n",
       "2   0.7500   1.0000   0.650000  0.597255    0.753425     0.397394  0.426036   \n",
       "3   0.3125   0.3125   0.216667  0.109785    0.000000     0.801303  0.739645   \n",
       "4   0.0000   0.5000   0.691667  0.653341    0.972603     0.309446  0.272189   \n",
       "5   1.0000   0.8750   0.258333  0.164081    0.794521     0.429967  0.437870   \n",
       "6   0.4375   0.9375   0.566667  0.500000    0.342466     0.231270  0.260355   \n",
       "7   0.3750   0.4375   0.316667  0.224344    0.671233     0.413681  0.502959   \n",
       "8   0.6250   0.8125   0.300000  0.189737    0.780822     0.504886  0.591716   \n",
       "9   1.0000   0.0000   0.266667  0.163484    0.671233     0.657980  0.402367   \n",
       "10  0.9375   0.6250   0.425000  0.355609    0.164384     0.094463  0.106509   \n",
       "11  0.5000   0.2500   0.433333  0.345465    0.369863     0.296417  0.289941   \n",
       "12  0.3125   0.2500   0.666667  0.549523    0.369863     0.677524  0.621302   \n",
       "13  0.1875   0.6875   0.433333  0.346659    0.191781     0.201954  0.295858   \n",
       "14  0.1875   0.1250   0.350000  0.224344    0.589041     0.622150  0.426036   \n",
       "15  0.8125   0.5000   0.375000  0.272673    0.602740     0.397394  0.562130   \n",
       "16  0.0625   0.3125   0.358333  0.288186    0.397260     0.110749  0.142012   \n",
       "17  0.3750   0.1875   0.466667  0.356205    0.643836     0.534202  0.479290   \n",
       "18  0.6875   0.1875   0.650000  0.631265    0.383562     0.211726  0.136095   \n",
       "19  0.5000   0.0000   0.291667  0.217184    0.383562     0.140065  0.319527   \n",
       "20  0.4375   0.1875   0.283333  0.189737    0.520548     0.289902  0.366864   \n",
       "21  0.5000   0.8125   0.066667  0.042959    0.438356     0.087948  0.278107   \n",
       "22  0.6875   1.0000   0.425000  0.299523    0.506849     0.573290  0.692308   \n",
       "23  0.6250   0.0625   0.708333  0.717184    0.328767     0.208469  0.248521   \n",
       "24  0.0000   0.1250   0.483333  0.419451    0.575342     0.351792  0.384615   \n",
       "25  0.6250   1.0000   0.533333  0.424224    0.671233     0.618893  1.000000   \n",
       "26  0.0625   0.8125   0.375000  0.264320    0.479452     0.485342  0.532544   \n",
       "27  0.4375   0.8125   0.583333  0.532220    0.328767     0.224756  0.207101   \n",
       "28  0.3750   0.2500   0.416667  0.316229    0.520548     0.429967  0.343195   \n",
       "29  0.1250   0.3125   0.525000  0.449284    0.383562     0.254072  0.230769   \n",
       "..     ...      ...        ...       ...         ...          ...       ...   \n",
       "70  0.7500   0.4375   0.600000  0.553699    0.273973     0.211726  0.136095   \n",
       "71  0.0000   0.9375   0.058333  0.025060    0.383562     0.374593  0.325444   \n",
       "72  0.7500   0.0625   0.516667  0.433771    0.506849     0.472313  0.343195   \n",
       "73  0.8125   0.8750   0.316667  0.227924    0.424658     0.293160  0.183432   \n",
       "74  0.5625   0.1250   0.225000  0.160501    0.301370     0.097720  0.218935   \n",
       "75  0.7500   0.4375   0.433333  0.367542    0.301370     0.149837  0.266272   \n",
       "76  0.0625   0.3750   0.300000  0.213007    0.808219     0.218241  0.621302   \n",
       "77  0.1250   0.6250   0.566667  0.479714    0.506849     0.576547  0.473373   \n",
       "78  0.4375   0.4375   0.766667  0.622315    0.808219     1.000000  0.923077   \n",
       "79  0.8125   0.3125   0.258333  0.181384    0.397260     0.185668  0.218935   \n",
       "80  0.0625   0.4375   0.183333  0.119332    0.547945     0.182410  0.289941   \n",
       "81  0.5000   0.6250   0.283333  0.189737    0.520548     0.377850  0.349112   \n",
       "82  0.0625   0.2500   1.000000  1.000000    0.493151     0.745928  0.284024   \n",
       "83  0.6875   0.1875   0.641667  0.554893    0.712329     0.459283  0.165680   \n",
       "84  1.0000   0.6250   0.208333  0.143795    0.369863     0.110749  0.431953   \n",
       "85  0.3125   0.1250   0.575000  0.520883    0.397260     0.218241  0.461538   \n",
       "86  0.6250   0.9375   0.350000  0.266110    0.328767     0.198697  0.431953   \n",
       "87  0.6250   0.0000   0.583333  0.521480    0.273973     0.270358  0.355030   \n",
       "88  0.1250   0.0000   0.233333  0.157518    0.246575     0.182410  0.343195   \n",
       "89  0.1875   0.7500   0.366667  0.268496    0.589041     0.312704  0.455621   \n",
       "90  0.8750   1.0000   0.358333  0.275060    0.273973     0.156352  0.201183   \n",
       "91  0.0625   0.0625   0.400000  0.313842    0.301370     0.214984  0.218935   \n",
       "92  0.3125   0.1875   0.275000  0.208831    0.054795     0.042345  0.023669   \n",
       "93  0.0625   0.3750   0.291667  0.210621    0.438356     0.143322  0.171598   \n",
       "94  0.8125   0.9375   0.400000  0.300716    0.465753     0.381107  0.301775   \n",
       "95  0.8750   0.3125   0.666667  0.633652    0.287671     0.302932  0.443787   \n",
       "96  0.8125   0.1875   0.216667  0.148568    0.479452     0.107492  0.325444   \n",
       "97  0.6250   1.0000   0.083333  0.055489    0.438356     0.048860  0.000000   \n",
       "98  0.7500   0.8125   0.183333  0.125895    0.273973     0.120521  0.159763   \n",
       "99  0.4375   1.0000   0.350000  0.263126    0.383562     0.247557  0.313609   \n",
       "\n",
       "    fractal_dimension  \n",
       "0            0.590909  \n",
       "1            0.090909  \n",
       "2            0.159091  \n",
       "3            1.000000  \n",
       "4            0.136364  \n",
       "5            0.522727  \n",
       "6            0.090909  \n",
       "7            0.500000  \n",
       "8            0.477273  \n",
       "9            0.659091  \n",
       "10           0.090909  \n",
       "11           0.181818  \n",
       "12           0.568182  \n",
       "13           0.000000  \n",
       "14           0.545455  \n",
       "15           0.409091  \n",
       "16           0.136364  \n",
       "17           0.477273  \n",
       "18           0.022727  \n",
       "19           0.113636  \n",
       "20           0.340909  \n",
       "21           0.363636  \n",
       "22           0.386364  \n",
       "23           0.000000  \n",
       "24           0.227273  \n",
       "25           0.477273  \n",
       "26           0.363636  \n",
       "27           0.090909  \n",
       "28           0.272727  \n",
       "29           0.181818  \n",
       "..                ...  \n",
       "70           0.045455  \n",
       "71           0.840909  \n",
       "72           0.272727  \n",
       "73           0.295455  \n",
       "74           0.136364  \n",
       "75           0.022727  \n",
       "76           0.295455  \n",
       "77           0.318182  \n",
       "78           0.636364  \n",
       "79           0.159091  \n",
       "80           0.386364  \n",
       "81           0.363636  \n",
       "82           0.340909  \n",
       "83           0.431818  \n",
       "84           0.159091  \n",
       "85           0.159091  \n",
       "86           0.068182  \n",
       "87           0.068182  \n",
       "88           0.250000  \n",
       "89           0.227273  \n",
       "90           0.136364  \n",
       "91           0.181818  \n",
       "92           0.000000  \n",
       "93           0.090909  \n",
       "94           0.227273  \n",
       "95           0.068182  \n",
       "96           0.295455  \n",
       "97           0.363636  \n",
       "98           0.295455  \n",
       "99           0.250000  \n",
       "\n",
       "[100 rows x 8 columns]"
      ]
     },
     "execution_count": 13,
     "metadata": {},
     "output_type": "execute_result"
    }
   ],
   "source": [
    "cancer_df.iloc[:,1:].apply(normalizefun)"
   ]
  },
  {
   "cell_type": "code",
   "execution_count": 14,
   "metadata": {},
   "outputs": [],
   "source": [
    "from sklearn import model_selection\n",
    "from sklearn.model_selection import train_test_split\n",
    "X = cancer_df.iloc[:,1:]\n",
    "Y = cancer_df.iloc[:,0]\n"
   ]
  },
  {
   "cell_type": "code",
   "execution_count": 15,
   "metadata": {},
   "outputs": [
    {
     "data": {
      "text/plain": [
       "0    1\n",
       "1    0\n",
       "2    1\n",
       "3    1\n",
       "4    1\n",
       "Name: diagnosis_result, dtype: int64"
      ]
     },
     "execution_count": 15,
     "metadata": {},
     "output_type": "execute_result"
    }
   ],
   "source": [
    "Y.head(5)"
   ]
  },
  {
   "cell_type": "code",
   "execution_count": 16,
   "metadata": {},
   "outputs": [
    {
     "data": {
      "text/html": [
       "<div>\n",
       "<style scoped>\n",
       "    .dataframe tbody tr th:only-of-type {\n",
       "        vertical-align: middle;\n",
       "    }\n",
       "\n",
       "    .dataframe tbody tr th {\n",
       "        vertical-align: top;\n",
       "    }\n",
       "\n",
       "    .dataframe thead th {\n",
       "        text-align: right;\n",
       "    }\n",
       "</style>\n",
       "<table border=\"1\" class=\"dataframe\">\n",
       "  <thead>\n",
       "    <tr style=\"text-align: right;\">\n",
       "      <th></th>\n",
       "      <th>radius</th>\n",
       "      <th>texture</th>\n",
       "      <th>perimeter</th>\n",
       "      <th>area</th>\n",
       "      <th>smoothness</th>\n",
       "      <th>compactness</th>\n",
       "      <th>symmetry</th>\n",
       "      <th>fractal_dimension</th>\n",
       "    </tr>\n",
       "  </thead>\n",
       "  <tbody>\n",
       "    <tr>\n",
       "      <th>0</th>\n",
       "      <td>23</td>\n",
       "      <td>12</td>\n",
       "      <td>151</td>\n",
       "      <td>954</td>\n",
       "      <td>0.143</td>\n",
       "      <td>0.278</td>\n",
       "      <td>0.242</td>\n",
       "      <td>0.079</td>\n",
       "    </tr>\n",
       "    <tr>\n",
       "      <th>1</th>\n",
       "      <td>9</td>\n",
       "      <td>13</td>\n",
       "      <td>133</td>\n",
       "      <td>1326</td>\n",
       "      <td>0.143</td>\n",
       "      <td>0.079</td>\n",
       "      <td>0.181</td>\n",
       "      <td>0.057</td>\n",
       "    </tr>\n",
       "    <tr>\n",
       "      <th>2</th>\n",
       "      <td>21</td>\n",
       "      <td>27</td>\n",
       "      <td>130</td>\n",
       "      <td>1203</td>\n",
       "      <td>0.125</td>\n",
       "      <td>0.160</td>\n",
       "      <td>0.207</td>\n",
       "      <td>0.060</td>\n",
       "    </tr>\n",
       "    <tr>\n",
       "      <th>3</th>\n",
       "      <td>14</td>\n",
       "      <td>16</td>\n",
       "      <td>78</td>\n",
       "      <td>386</td>\n",
       "      <td>0.070</td>\n",
       "      <td>0.284</td>\n",
       "      <td>0.260</td>\n",
       "      <td>0.097</td>\n",
       "    </tr>\n",
       "    <tr>\n",
       "      <th>4</th>\n",
       "      <td>9</td>\n",
       "      <td>19</td>\n",
       "      <td>135</td>\n",
       "      <td>1297</td>\n",
       "      <td>0.141</td>\n",
       "      <td>0.133</td>\n",
       "      <td>0.181</td>\n",
       "      <td>0.059</td>\n",
       "    </tr>\n",
       "  </tbody>\n",
       "</table>\n",
       "</div>"
      ],
      "text/plain": [
       "   radius  texture  perimeter  area  smoothness  compactness  symmetry  \\\n",
       "0      23       12        151   954       0.143        0.278     0.242   \n",
       "1       9       13        133  1326       0.143        0.079     0.181   \n",
       "2      21       27        130  1203       0.125        0.160     0.207   \n",
       "3      14       16         78   386       0.070        0.284     0.260   \n",
       "4       9       19        135  1297       0.141        0.133     0.181   \n",
       "\n",
       "   fractal_dimension  \n",
       "0              0.079  \n",
       "1              0.057  \n",
       "2              0.060  \n",
       "3              0.097  \n",
       "4              0.059  "
      ]
     },
     "execution_count": 16,
     "metadata": {},
     "output_type": "execute_result"
    }
   ],
   "source": [
    "X.head(5)"
   ]
  },
  {
   "cell_type": "code",
   "execution_count": 17,
   "metadata": {},
   "outputs": [],
   "source": [
    "validation_size = 0.34\n",
    "X_train, X_Validation, Y_train, Y_validation = model_selection.train_test_split(X, Y, test_size=validation_size, random_state=0)\n"
   ]
  },
  {
   "cell_type": "code",
   "execution_count": 18,
   "metadata": {},
   "outputs": [
    {
     "data": {
      "text/plain": [
       "(66, 8)"
      ]
     },
     "execution_count": 18,
     "metadata": {},
     "output_type": "execute_result"
    }
   ],
   "source": [
    "X_train.shape"
   ]
  },
  {
   "cell_type": "code",
   "execution_count": 19,
   "metadata": {},
   "outputs": [
    {
     "data": {
      "text/plain": [
       "(34, 8)"
      ]
     },
     "execution_count": 19,
     "metadata": {},
     "output_type": "execute_result"
    }
   ],
   "source": [
    "X_Validation.shape"
   ]
  },
  {
   "cell_type": "code",
   "execution_count": 20,
   "metadata": {},
   "outputs": [
    {
     "data": {
      "text/plain": [
       "(66,)"
      ]
     },
     "execution_count": 20,
     "metadata": {},
     "output_type": "execute_result"
    }
   ],
   "source": [
    "Y_train.shape"
   ]
  },
  {
   "cell_type": "code",
   "execution_count": 21,
   "metadata": {},
   "outputs": [
    {
     "data": {
      "text/plain": [
       "(34,)"
      ]
     },
     "execution_count": 21,
     "metadata": {},
     "output_type": "execute_result"
    }
   ],
   "source": [
    "Y_validation.shape"
   ]
  },
  {
   "cell_type": "code",
   "execution_count": 22,
   "metadata": {},
   "outputs": [],
   "source": [
    "knn_model = KNeighborsClassifier(n_neighbors = 10, weights='uniform' )\n",
    "knn_model.fit(X_train,Y_train)\n",
    "pred = knn_model.predict(X_Validation)"
   ]
  },
  {
   "cell_type": "code",
   "execution_count": 23,
   "metadata": {},
   "outputs": [
    {
     "data": {
      "text/plain": [
       "(34,)"
      ]
     },
     "execution_count": 23,
     "metadata": {},
     "output_type": "execute_result"
    }
   ],
   "source": [
    "pred.shape"
   ]
  },
  {
   "cell_type": "code",
   "execution_count": 24,
   "metadata": {},
   "outputs": [
    {
     "name": "stdout",
     "output_type": "stream",
     "text": [
      "Accuracy of the model is  0.8529411764705882\n"
     ]
    }
   ],
   "source": [
    "a = accuracy_score(Y_validation, pred)\n",
    "print(\"Accuracy of the model is \", + a)"
   ]
  },
  {
   "cell_type": "code",
   "execution_count": 25,
   "metadata": {},
   "outputs": [],
   "source": [
    " cm=confusion_matrix(Y_validation, pred)"
   ]
  },
  {
   "cell_type": "code",
   "execution_count": 26,
   "metadata": {},
   "outputs": [
    {
     "data": {
      "text/plain": [
       "array([[ 9,  1],\n",
       "       [ 4, 20]], dtype=int64)"
      ]
     },
     "execution_count": 26,
     "metadata": {},
     "output_type": "execute_result"
    }
   ],
   "source": [
    "cm"
   ]
  },
  {
   "cell_type": "code",
   "execution_count": 27,
   "metadata": {},
   "outputs": [],
   "source": [
    "knn_model = KNeighborsClassifier(n_neighbors = 9, weights='uniform' )\n",
    "knn_model.fit(X_train,Y_train)\n",
    "pred = knn_model.predict(X_Validation)"
   ]
  },
  {
   "cell_type": "code",
   "execution_count": 28,
   "metadata": {},
   "outputs": [
    {
     "name": "stdout",
     "output_type": "stream",
     "text": [
      "Accuracy of the model is  0.7941176470588235\n"
     ]
    }
   ],
   "source": [
    "a = accuracy_score(Y_validation, pred)\n",
    "print(\"Accuracy of the model is \", + a)"
   ]
  },
  {
   "cell_type": "code",
   "execution_count": 29,
   "metadata": {},
   "outputs": [],
   "source": [
    " cm=confusion_matrix(Y_validation, pred)"
   ]
  },
  {
   "cell_type": "code",
   "execution_count": 30,
   "metadata": {},
   "outputs": [
    {
     "data": {
      "text/plain": [
       "array([[ 6,  4],\n",
       "       [ 3, 21]], dtype=int64)"
      ]
     },
     "execution_count": 30,
     "metadata": {},
     "output_type": "execute_result"
    }
   ],
   "source": [
    "cm"
   ]
  },
  {
   "cell_type": "code",
   "execution_count": 31,
   "metadata": {},
   "outputs": [
    {
     "name": "stdout",
     "output_type": "stream",
     "text": [
      "Accuracy of the model is  0.8235294117647058\n"
     ]
    }
   ],
   "source": [
    "knn_model = KNeighborsClassifier(n_neighbors = 12, weights='uniform' )\n",
    "knn_model.fit(X_train,Y_train)\n",
    "pred = knn_model.predict(X_Validation)\n",
    "a = accuracy_score(Y_validation, pred)\n",
    "print(\"Accuracy of the model is \", + a)"
   ]
  },
  {
   "cell_type": "code",
   "execution_count": 32,
   "metadata": {},
   "outputs": [
    {
     "data": {
      "text/plain": [
       "array([[ 9,  1],\n",
       "       [ 5, 19]], dtype=int64)"
      ]
     },
     "execution_count": 32,
     "metadata": {},
     "output_type": "execute_result"
    }
   ],
   "source": [
    "cm=confusion_matrix(Y_validation, pred)\n",
    "cm"
   ]
  },
  {
   "cell_type": "code",
   "execution_count": 33,
   "metadata": {},
   "outputs": [],
   "source": [
    "TN = cm[0][0]\n",
    "FN = cm[1][0]\n",
    "TP = cm[1][1]\n",
    "FP = cm[0][1]\n",
    "\n",
    "\n",
    "# Sensitivity, hit rate, recall, or true positive rate\n",
    "TPR = TP/(TP+FN)\n",
    "# Specificity or true negative rate\n",
    "TNR = TN/(TN+FP) \n",
    "# Precision or positive predictive value\n",
    "PPV = TP/(TP+FP)\n",
    "# Negative predictive value\n",
    "NPV = TN/(TN+FN)\n",
    "# Fall out or false positive rate\n",
    "FPR = FP/(FP+TN)\n",
    "# False negative rate\n",
    "FNR = FN/(TP+FN)\n",
    "# False discovery rate\n",
    "FDR = FP/(TP+FP)\n",
    "\n",
    "# Overall accuracy\n",
    "ACC = (TP+TN)/(TP+FP+FN+TN)"
   ]
  },
  {
   "cell_type": "code",
   "execution_count": 34,
   "metadata": {},
   "outputs": [
    {
     "name": "stdout",
     "output_type": "stream",
     "text": [
      "0.7916666666666666 0.9 0.95 0.6428571428571429 0.1 0.20833333333333334 0.05 0.8235294117647058\n"
     ]
    }
   ],
   "source": [
    "print(TPR,TNR,PPV,NPV,FPR,FNR,FDR,ACC)"
   ]
  },
  {
   "cell_type": "code",
   "execution_count": 35,
   "metadata": {},
   "outputs": [
    {
     "name": "stdout",
     "output_type": "stream",
     "text": [
      "              precision    recall  f1-score   support\n",
      "\n",
      "           0       0.64      0.90      0.75        10\n",
      "           1       0.95      0.79      0.86        24\n",
      "\n",
      "   micro avg       0.82      0.82      0.82        34\n",
      "   macro avg       0.80      0.85      0.81        34\n",
      "weighted avg       0.86      0.82      0.83        34\n",
      "\n",
      "[1 1 1 0 1 0 1 0 1 1 1 0 1 1 0 1 1 1 1 0 0 1 0 0 1 0 1 1 1 0 0 0 1 0]\n"
     ]
    }
   ],
   "source": [
    "print(classification_report(Y_validation, pred))\n",
    "k_list = list(range(1,50))\n",
    "cv_scores = []\n",
    "\n",
    "# perform 10-fold cross validation\n",
    "for k in k_list:\n",
    "    knn = KNeighborsClassifier(n_neighbors=k)\n",
    "    scores = model_selection.cross_val_score(knn, X_train, Y_train, cv=10, scoring='accuracy')\n",
    "    cv_scores.append(scores.mean())\n",
    "print(pred)"
   ]
  },
  {
   "cell_type": "code",
   "execution_count": 36,
   "metadata": {},
   "outputs": [
    {
     "name": "stdout",
     "output_type": "stream",
     "text": [
      "The optimal number of neighbors is 37.\n"
     ]
    }
   ],
   "source": [
    "MSE = [1 - x for x in cv_scores]\n",
    "best_k = k_list[MSE.index(min(MSE))]\n",
    "print(\"The optimal number of neighbors is %d.\" % best_k)"
   ]
  },
  {
   "cell_type": "code",
   "execution_count": 37,
   "metadata": {},
   "outputs": [
    {
     "name": "stdout",
     "output_type": "stream",
     "text": [
      "Accuracy of the model is  0.8235294117647058\n"
     ]
    }
   ],
   "source": [
    "knn_model = KNeighborsClassifier(n_neighbors = 37, weights='uniform' )\n",
    "knn_model.fit(X_train,Y_train)\n",
    "pred = knn_model.predict(X_Validation)\n",
    "a = accuracy_score(Y_validation, pred)\n",
    "print(\"Accuracy of the model is \", + a)"
   ]
  },
  {
   "cell_type": "code",
   "execution_count": 38,
   "metadata": {},
   "outputs": [],
   "source": [
    "# The accuracy of the model can be still imporved by selecting set of features or by using algorithms by decision trees and Random forests\n"
   ]
  },
  {
   "cell_type": "code",
   "execution_count": 56,
   "metadata": {},
   "outputs": [
    {
     "data": {
      "image/png": "[encoded data removed]",
      "text/plain": [
       "<Figure size 720x720 with 8 Axes>"
      ]
     },
     "metadata": {
      "needs_background": "light"
     },
     "output_type": "display_data"
    }
   ],
   "source": [
    "features_mean=list(cancer_df.columns[1:9])\n",
    "# split dataframe into two based on diagnosis\n",
    "dfM=cancer_df[cancer_df['diagnosis_result'] ==1]\n",
    "dfB=cancer_df[cancer_df['diagnosis_result'] ==0]\n",
    "plt.rcParams.update({'font.size': 8})\n",
    "fig, axes = plt.subplots(nrows=4, ncols=2, figsize=(10,10))\n",
    "axes = axes.ravel()\n",
    "for idx,ax in enumerate(axes):\n",
    "    ax.figure\n",
    "    binwidth= (max(cancer_df[features_mean[idx]]) - min(cancer_df[features_mean[idx]]))/30\n",
    "    ax.hist([dfM[features_mean[idx]],dfB[features_mean[idx]]], bins=np.arange(min(cancer_df[features_mean[idx]]), max(cancer_df[features_mean[idx]]) + binwidth, binwidth) , alpha=0.5,stacked=True, normed = True, label=['M','B'],color=['r','g'])\n",
    "    ax.legend(loc='upper right')\n",
    "    ax.set_title(features_mean[idx])\n",
    "plt.tight_layout()\n",
    "plt.show()"
   ]
  },
  {
   "cell_type": "code",
   "execution_count": 57,
   "metadata": {},
   "outputs": [],
   "source": [
    "from sklearn.ensemble import RandomForestClassifier\n"
   ]
  },
  {
   "cell_type": "code",
   "execution_count": 58,
   "metadata": {},
   "outputs": [
    {
     "name": "stderr",
     "output_type": "stream",
     "text": [
      "C:\\Users\\Admin\\Anaconda3\\lib\\site-packages\\sklearn\\ensemble\\forest.py:246: FutureWarning: The default value of n_estimators will change from 10 in version 0.20 to 100 in 0.22.\n",
      "  \"10 in version 0.20 to 100 in 0.22.\", FutureWarning)\n"
     ]
    }
   ],
   "source": [
    "rfc = RandomForestClassifier()\n",
    "rfc.fit(X_train,Y_train)\n",
    "rfc_predict = rfc.predict(X_Validation)"
   ]
  },
  {
   "cell_type": "code",
   "execution_count": 59,
   "metadata": {},
   "outputs": [
    {
     "data": {
      "text/plain": [
       "0.8529411764705882"
      ]
     },
     "execution_count": 59,
     "metadata": {},
     "output_type": "execute_result"
    }
   ],
   "source": [
    "rfc.score(X_Validation,Y_validation)"
   ]
  },
  {
   "cell_type": "code",
   "execution_count": 62,
   "metadata": {},
   "outputs": [
    {
     "name": "stdout",
     "output_type": "stream",
     "text": [
      "area                 0.272331\n",
      "compactness          0.196300\n",
      "perimeter            0.189154\n",
      "smoothness           0.109302\n",
      "symmetry             0.084274\n",
      "fractal_dimension    0.059958\n",
      "radius               0.053911\n",
      "texture              0.034770\n",
      "dtype: float64\n"
     ]
    }
   ],
   "source": [
    "predictor_var = X_train.columns\n",
    "featureimp = pd.Series(rfc.feature_importances_, index=predictor_var).sort_values(ascending=False)\n",
    "print(featureimp)"
   ]
  },
  {
   "cell_type": "code",
   "execution_count": 69,
   "metadata": {},
   "outputs": [],
   "source": [
    "Imp_Features = ['area','compactness','perimeter','smoothness','symmetry']\n",
    "data = cancer_df[Imp_Features]\n",
    "Xdata_train,Xdata_test,Y_train,Y_test = train_test_split(data,Y, test_size=validation_size, random_state=0)\n",
    "rfc = RandomForestClassifier(n_estimators=100, min_samples_split=25, max_depth=7, max_features=2)\n",
    "rfc.fit(Xdata_train,Y_train)\n",
    "rfc_predict = rfc.predict(Xdata_test)"
   ]
  },
  {
   "cell_type": "code",
   "execution_count": 71,
   "metadata": {},
   "outputs": [
    {
     "data": {
      "text/plain": [
       "0.9117647058823529"
      ]
     },
     "execution_count": 71,
     "metadata": {},
     "output_type": "execute_result"
    }
   ],
   "source": [
    "rfc.score(Xdata_test,Y_test)"
   ]
  },
  {
   "cell_type": "code",
   "execution_count": 74,
   "metadata": {},
   "outputs": [
    {
     "name": "stdout",
     "output_type": "stream",
     "text": [
      "Train Accuracy ::  0.8787878787878788\n",
      "Test Accuracy  ::  0.9117647058823529\n"
     ]
    }
   ],
   "source": [
    "print(\"Train Accuracy :: \", accuracy_score(Y_train,rfc.predict(Xdata_train)))\n",
    "print(\"Test Accuracy  :: \", accuracy_score(Y_test, rfc_predict))"
   ]
  },
  {
   "cell_type": "code",
   "execution_count": 75,
   "metadata": {},
   "outputs": [
    {
     "name": "stdout",
     "output_type": "stream",
     "text": [
      "[[ 8  2]\n",
      " [ 1 23]]\n"
     ]
    }
   ],
   "source": [
    "print(confusion_matrix(Y_test, rfc_predict))"
   ]
  },
  {
   "cell_type": "code",
   "execution_count": 79,
   "metadata": {},
   "outputs": [
    {
     "name": "stdout",
     "output_type": "stream",
     "text": [
      "Actual outcome :: 1 and Predicted outcome :: 1\n",
      "Actual outcome :: 1 and Predicted outcome :: 1\n",
      "Actual outcome :: 1 and Predicted outcome :: 1\n",
      "Actual outcome :: 0 and Predicted outcome :: 0\n",
      "Actual outcome :: 1 and Predicted outcome :: 1\n",
      "Actual outcome :: 0 and Predicted outcome :: 0\n",
      "Actual outcome :: 1 and Predicted outcome :: 1\n",
      "Actual outcome :: 1 and Predicted outcome :: 1\n",
      "Actual outcome :: 1 and Predicted outcome :: 1\n",
      "Actual outcome :: 1 and Predicted outcome :: 1\n",
      "Actual outcome :: 1 and Predicted outcome :: 1\n",
      "Actual outcome :: 0 and Predicted outcome :: 0\n",
      "Actual outcome :: 1 and Predicted outcome :: 1\n",
      "Actual outcome :: 1 and Predicted outcome :: 1\n",
      "Actual outcome :: 1 and Predicted outcome :: 1\n",
      "Actual outcome :: 1 and Predicted outcome :: 1\n",
      "Actual outcome :: 1 and Predicted outcome :: 1\n",
      "Actual outcome :: 1 and Predicted outcome :: 1\n",
      "Actual outcome :: 1 and Predicted outcome :: 1\n",
      "Actual outcome :: 1 and Predicted outcome :: 1\n"
     ]
    }
   ],
   "source": [
    "for i in range(0,20):\n",
    "    print(\"Actual outcome :: {} and Predicted outcome :: {}\".format(list(Y_test)[i], rfc_predict[i]))"
   ]
  },
  {
   "cell_type": "code",
   "execution_count": 94,
   "metadata": {},
   "outputs": [
    {
     "name": "stdout",
     "output_type": "stream",
     "text": [
      "Cross-Validation Score : 85.000%\n",
      "Cross-Validation Score : 85.000%\n",
      "Cross-Validation Score : 83.333%\n",
      "Cross-Validation Score : 86.250%\n",
      "Cross-Validation Score : 86.000%\n"
     ]
    }
   ],
   "source": [
    "from sklearn.model_selection import KFold\n",
    "\n",
    "kf = KFold(n_splits=5,random_state=6, shuffle=True)\n",
    "error = []\n",
    "for train, test in kf.split(X):\n",
    "       # Filter training data\n",
    "    train_predictors = (cancer_df[Imp_Features].iloc[train,:])\n",
    "    # The target we're using to train the algorithm.\n",
    "    train_target = Y.iloc[train]\n",
    "    # Training the algorithm using the predictors and target.\n",
    "    rfc.fit(train_predictors, train_target)\n",
    "    #Record error from each cross-validation run\n",
    "    error.append(rfc.score(cancer_df[Imp_Features].iloc[test,:], Y.iloc[test]))\n",
    "    print(\"Cross-Validation Score : %s\" % \"{0:.3%}\".format(np.mean(error)))"
   ]
  },
  {
   "cell_type": "markdown",
   "metadata": {},
   "source": [
    "#### The Random Forest Algorithm shows 91% accuracy with cross validation score of 86%, with KNN it is 82%. so Random Forest Algorithm is better compared to KNN"
   ]
  },
  {
   "cell_type": "code",
   "execution_count": null,
   "metadata": {},
   "outputs": [],
   "source": []
  }
 ],
 "metadata": {
  "kernelspec": {
   "display_name": "Python 3",
   "language": "python",
   "name": "python3"
  },
  "language_info": {
   "codemirror_mode": {
    "name": "ipython",
    "version": 3
   },
   "file_extension": ".py",
   "mimetype": "text/x-python",
   "name": "python",
   "nbconvert_exporter": "python",
   "pygments_lexer": "ipython3",
   "version": "3.7.1"
  }
 },
 "nbformat": 4,
 "nbformat_minor": 2
}
